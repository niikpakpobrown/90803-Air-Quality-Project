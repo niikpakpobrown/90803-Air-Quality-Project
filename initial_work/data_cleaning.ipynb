{
 "cells": [
  {
   "cell_type": "code",
   "execution_count": 1,
   "metadata": {},
   "outputs": [],
   "source": [
    "# import necessary libraries\n",
    "import pandas as pd\n",
    "import numpy as np\n",
    "import os\n",
    "\n"
   ]
  },
  {
   "cell_type": "code",
   "execution_count": 2,
   "metadata": {},
   "outputs": [],
   "source": [
    "# load data from file\n",
    "\n",
    "df = pd.read_csv(\"/Users/brown/Downloads/aqi.csv\")"
   ]
  },
  {
   "cell_type": "code",
   "execution_count": 3,
   "metadata": {},
   "outputs": [
    {
     "name": "stdout",
     "output_type": "stream",
     "text": [
      "<class 'pandas.core.frame.DataFrame'>\n",
      "RangeIndex: 10116546 entries, 0 to 10116545\n",
      "Data columns (total 10 columns):\n",
      " #   Column                  Dtype  \n",
      "---  ------                  -----  \n",
      " 0   _id                     int64  \n",
      " 1   datetime_est            object \n",
      " 2   site                    object \n",
      " 3   parameter               object \n",
      " 4   is_valid                object \n",
      " 5   report_value            float64\n",
      " 6   unit                    object \n",
      " 7   unit_description        object \n",
      " 8   highest_flag            object \n",
      " 9   aqs_parameter_category  object \n",
      "dtypes: float64(1), int64(1), object(8)\n",
      "memory usage: 771.8+ MB\n"
     ]
    }
   ],
   "source": [
    "# Overview of structure\n",
    "df.info()"
   ]
  },
  {
   "cell_type": "code",
   "execution_count": 4,
   "metadata": {},
   "outputs": [
    {
     "data": {
      "text/html": [
       "<div>\n",
       "<style scoped>\n",
       "    .dataframe tbody tr th:only-of-type {\n",
       "        vertical-align: middle;\n",
       "    }\n",
       "\n",
       "    .dataframe tbody tr th {\n",
       "        vertical-align: top;\n",
       "    }\n",
       "\n",
       "    .dataframe thead th {\n",
       "        text-align: right;\n",
       "    }\n",
       "</style>\n",
       "<table border=\"1\" class=\"dataframe\">\n",
       "  <thead>\n",
       "    <tr style=\"text-align: right;\">\n",
       "      <th></th>\n",
       "      <th>_id</th>\n",
       "      <th>datetime_est</th>\n",
       "      <th>site</th>\n",
       "      <th>parameter</th>\n",
       "      <th>is_valid</th>\n",
       "      <th>report_value</th>\n",
       "      <th>unit</th>\n",
       "      <th>unit_description</th>\n",
       "      <th>highest_flag</th>\n",
       "      <th>aqs_parameter_category</th>\n",
       "    </tr>\n",
       "  </thead>\n",
       "  <tbody>\n",
       "    <tr>\n",
       "      <th>0</th>\n",
       "      <td>1</td>\n",
       "      <td>2016-01-01T00:00:00</td>\n",
       "      <td>Lincoln</td>\n",
       "      <td>PM25</td>\n",
       "      <td>t</td>\n",
       "      <td>3.000</td>\n",
       "      <td>UG/M3</td>\n",
       "      <td>micrograms per cubic meter</td>\n",
       "      <td>NaN</td>\n",
       "      <td>Particulate</td>\n",
       "    </tr>\n",
       "    <tr>\n",
       "      <th>1</th>\n",
       "      <td>2</td>\n",
       "      <td>2016-01-01T00:00:00</td>\n",
       "      <td>Lincoln</td>\n",
       "      <td>PER_F2</td>\n",
       "      <td>t</td>\n",
       "      <td>67.000</td>\n",
       "      <td>PERCENT</td>\n",
       "      <td>Percent</td>\n",
       "      <td>NaN</td>\n",
       "      <td>NaN</td>\n",
       "    </tr>\n",
       "    <tr>\n",
       "      <th>2</th>\n",
       "      <td>3</td>\n",
       "      <td>2016-01-01T00:00:00</td>\n",
       "      <td>Liberty</td>\n",
       "      <td>SO2</td>\n",
       "      <td>t</td>\n",
       "      <td>0.001</td>\n",
       "      <td>PPM</td>\n",
       "      <td>Parts Per Million</td>\n",
       "      <td>C</td>\n",
       "      <td>Criteria Pollutants</td>\n",
       "    </tr>\n",
       "    <tr>\n",
       "      <th>3</th>\n",
       "      <td>4</td>\n",
       "      <td>2016-01-01T00:00:00</td>\n",
       "      <td>Liberty</td>\n",
       "      <td>SONICWS</td>\n",
       "      <td>t</td>\n",
       "      <td>6.900</td>\n",
       "      <td>MPH</td>\n",
       "      <td>miles per hour</td>\n",
       "      <td>NaN</td>\n",
       "      <td>Meteorological</td>\n",
       "    </tr>\n",
       "    <tr>\n",
       "      <th>4</th>\n",
       "      <td>5</td>\n",
       "      <td>2016-01-01T00:00:00</td>\n",
       "      <td>Liberty</td>\n",
       "      <td>SONICWD</td>\n",
       "      <td>t</td>\n",
       "      <td>259.000</td>\n",
       "      <td>DEG</td>\n",
       "      <td>Degrees</td>\n",
       "      <td>NaN</td>\n",
       "      <td>Meteorological</td>\n",
       "    </tr>\n",
       "  </tbody>\n",
       "</table>\n",
       "</div>"
      ],
      "text/plain": [
       "   _id         datetime_est     site parameter is_valid  report_value  \\\n",
       "0    1  2016-01-01T00:00:00  Lincoln      PM25        t         3.000   \n",
       "1    2  2016-01-01T00:00:00  Lincoln    PER_F2        t        67.000   \n",
       "2    3  2016-01-01T00:00:00  Liberty       SO2        t         0.001   \n",
       "3    4  2016-01-01T00:00:00  Liberty   SONICWS        t         6.900   \n",
       "4    5  2016-01-01T00:00:00  Liberty   SONICWD        t       259.000   \n",
       "\n",
       "      unit            unit_description highest_flag aqs_parameter_category  \n",
       "0    UG/M3  micrograms per cubic meter          NaN            Particulate  \n",
       "1  PERCENT                     Percent          NaN                    NaN  \n",
       "2      PPM           Parts Per Million            C    Criteria Pollutants  \n",
       "3      MPH              miles per hour          NaN         Meteorological  \n",
       "4      DEG                     Degrees          NaN         Meteorological  "
      ]
     },
     "execution_count": 4,
     "metadata": {},
     "output_type": "execute_result"
    }
   ],
   "source": [
    "\n",
    "# Look at the first few rows\n",
    "df.head()"
   ]
  },
  {
   "cell_type": "code",
   "execution_count": 5,
   "metadata": {},
   "outputs": [
    {
     "data": {
      "text/html": [
       "<div>\n",
       "<style scoped>\n",
       "    .dataframe tbody tr th:only-of-type {\n",
       "        vertical-align: middle;\n",
       "    }\n",
       "\n",
       "    .dataframe tbody tr th {\n",
       "        vertical-align: top;\n",
       "    }\n",
       "\n",
       "    .dataframe thead th {\n",
       "        text-align: right;\n",
       "    }\n",
       "</style>\n",
       "<table border=\"1\" class=\"dataframe\">\n",
       "  <thead>\n",
       "    <tr style=\"text-align: right;\">\n",
       "      <th></th>\n",
       "      <th>_id</th>\n",
       "      <th>report_value</th>\n",
       "    </tr>\n",
       "  </thead>\n",
       "  <tbody>\n",
       "    <tr>\n",
       "      <th>count</th>\n",
       "      <td>1.011655e+07</td>\n",
       "      <td>8.537712e+06</td>\n",
       "    </tr>\n",
       "    <tr>\n",
       "      <th>mean</th>\n",
       "      <td>5.075763e+06</td>\n",
       "      <td>5.134890e+02</td>\n",
       "    </tr>\n",
       "    <tr>\n",
       "      <th>std</th>\n",
       "      <td>2.938486e+06</td>\n",
       "      <td>5.002255e+03</td>\n",
       "    </tr>\n",
       "    <tr>\n",
       "      <th>min</th>\n",
       "      <td>1.000000e+00</td>\n",
       "      <td>-2.034370e+04</td>\n",
       "    </tr>\n",
       "    <tr>\n",
       "      <th>25%</th>\n",
       "      <td>2.529137e+06</td>\n",
       "      <td>2.400000e+00</td>\n",
       "    </tr>\n",
       "    <tr>\n",
       "      <th>50%</th>\n",
       "      <td>5.058274e+06</td>\n",
       "      <td>1.670000e+01</td>\n",
       "    </tr>\n",
       "    <tr>\n",
       "      <th>75%</th>\n",
       "      <td>7.631409e+06</td>\n",
       "      <td>4.790000e+01</td>\n",
       "    </tr>\n",
       "    <tr>\n",
       "      <th>max</th>\n",
       "      <td>1.016082e+07</td>\n",
       "      <td>1.002960e+05</td>\n",
       "    </tr>\n",
       "  </tbody>\n",
       "</table>\n",
       "</div>"
      ],
      "text/plain": [
       "                _id  report_value\n",
       "count  1.011655e+07  8.537712e+06\n",
       "mean   5.075763e+06  5.134890e+02\n",
       "std    2.938486e+06  5.002255e+03\n",
       "min    1.000000e+00 -2.034370e+04\n",
       "25%    2.529137e+06  2.400000e+00\n",
       "50%    5.058274e+06  1.670000e+01\n",
       "75%    7.631409e+06  4.790000e+01\n",
       "max    1.016082e+07  1.002960e+05"
      ]
     },
     "execution_count": 5,
     "metadata": {},
     "output_type": "execute_result"
    }
   ],
   "source": [
    "# Descriptive statistics for numeric columns\n",
    "df.describe()"
   ]
  },
  {
   "cell_type": "code",
   "execution_count": 8,
   "metadata": {},
   "outputs": [],
   "source": [
    "# get the list of unique sites\n",
    "list_of_sites = df.site.unique().tolist()"
   ]
  },
  {
   "cell_type": "code",
   "execution_count": 10,
   "metadata": {},
   "outputs": [
    {
     "data": {
      "text/plain": [
       "['Avalon',\n",
       " 'Clairton',\n",
       " 'Court House',\n",
       " 'Flag Plaza',\n",
       " 'Fulton St. Fridge',\n",
       " 'Glassport High Street',\n",
       " 'Harrison Township',\n",
       " 'Lawrencevill00:00',\n",
       " 'Lawrenceville',\n",
       " 'Lawrenceville 2',\n",
       " 'Liberty',\n",
       " 'Liberty 2',\n",
       " 'Lincoln',\n",
       " 'North Braddock',\n",
       " 'Opal Court',\n",
       " 'Parkway East',\n",
       " 'Pittsburgh',\n",
       " 'South Fayette',\n",
       " 'USS Clairton Sodar Site',\n",
       " 'West Mifflin']"
      ]
     },
     "execution_count": 10,
     "metadata": {},
     "output_type": "execute_result"
    }
   ],
   "source": [
    "list_of_sites"
   ]
  },
  {
   "cell_type": "code",
   "execution_count": 11,
   "metadata": {},
   "outputs": [
    {
     "data": {
      "text/plain": [
       "_id                             0\n",
       "datetime_est                    0\n",
       "site                            0\n",
       "parameter                       0\n",
       "is_valid                        0\n",
       "report_value              1578834\n",
       "unit                       215109\n",
       "unit_description             2894\n",
       "highest_flag              8322242\n",
       "aqs_parameter_category    4884545\n",
       "dtype: int64"
      ]
     },
     "execution_count": 11,
     "metadata": {},
     "output_type": "execute_result"
    }
   ],
   "source": [
    "# Check for missing values in overall dataset\n",
    "df.isnull().sum()"
   ]
  },
  {
   "cell_type": "code",
   "execution_count": 12,
   "metadata": {},
   "outputs": [
    {
     "data": {
      "text/plain": [
       "_id                         int64\n",
       "datetime_est               object\n",
       "site                       object\n",
       "parameter                  object\n",
       "is_valid                   object\n",
       "report_value              float64\n",
       "unit                       object\n",
       "unit_description           object\n",
       "highest_flag               object\n",
       "aqs_parameter_category     object\n",
       "dtype: object"
      ]
     },
     "execution_count": 12,
     "metadata": {},
     "output_type": "execute_result"
    }
   ],
   "source": [
    "# Check column types\n",
    "df.dtypes"
   ]
  },
  {
   "cell_type": "code",
   "execution_count": 13,
   "metadata": {},
   "outputs": [
    {
     "data": {
      "text/plain": [
       "0"
      ]
     },
     "execution_count": 13,
     "metadata": {},
     "output_type": "execute_result"
    }
   ],
   "source": [
    "# Check for duplicates\n",
    "df.duplicated().sum()"
   ]
  },
  {
   "cell_type": "code",
   "execution_count": 40,
   "metadata": {},
   "outputs": [],
   "source": [
    "# Quick look at categorical distributions\n",
    "#df.select_dtypes(include='object').apply(pd.Series.value_counts)"
   ]
  },
  {
   "cell_type": "markdown",
   "metadata": {},
   "source": [
    "Clean datetime_est column. Change it do datetime format"
   ]
  },
  {
   "cell_type": "code",
   "execution_count": 14,
   "metadata": {},
   "outputs": [
    {
     "data": {
      "text/plain": [
       "(Timestamp('2016-01-01 00:00:00'), Timestamp('2025-04-13 08:00:00'))"
      ]
     },
     "execution_count": 14,
     "metadata": {},
     "output_type": "execute_result"
    }
   ],
   "source": [
    "# Convert to datetime \n",
    "df['datetime_est'] = pd.to_datetime(df['datetime_est'])\n",
    "\n",
    "# Check the min and max timestamps\n",
    "df['datetime_est'].min(), df['datetime_est'].max()"
   ]
  },
  {
   "cell_type": "markdown",
   "metadata": {},
   "source": [
    "Inputs in the data set range from 2016 to April 2025"
   ]
  },
  {
   "cell_type": "code",
   "execution_count": 15,
   "metadata": {},
   "outputs": [
    {
     "data": {
      "text/plain": [
       "['Avalon',\n",
       " 'Clairton',\n",
       " 'Court House',\n",
       " 'Flag Plaza',\n",
       " 'Fulton St. Fridge',\n",
       " 'Glassport High Street',\n",
       " 'Harrison Township',\n",
       " 'Lawrencevill00:00',\n",
       " 'Lawrenceville',\n",
       " 'Lawrenceville 2',\n",
       " 'Liberty',\n",
       " 'Liberty 2',\n",
       " 'Lincoln',\n",
       " 'North Braddock',\n",
       " 'Opal Court',\n",
       " 'Parkway East',\n",
       " 'Pittsburgh',\n",
       " 'South Fayette',\n",
       " 'USS Clairton Sodar Site',\n",
       " 'West Mifflin']"
      ]
     },
     "execution_count": 15,
     "metadata": {},
     "output_type": "execute_result"
    }
   ],
   "source": [
    "list_of_sites"
   ]
  },
  {
   "cell_type": "markdown",
   "metadata": {},
   "source": [
    "Explore and find out what 'Lawrencevill00:00' is"
   ]
  },
  {
   "cell_type": "code",
   "execution_count": 16,
   "metadata": {},
   "outputs": [],
   "source": [
    "# load in the auxialliary dataset that contains info on the sites of collection\n",
    "\n",
    "site_df = pd.read_csv(\"/Users/brown/Downloads/sensor_locations.csv\")\n"
   ]
  },
  {
   "cell_type": "code",
   "execution_count": 17,
   "metadata": {},
   "outputs": [
    {
     "name": "stdout",
     "output_type": "stream",
     "text": [
      "<class 'pandas.core.frame.DataFrame'>\n",
      "RangeIndex: 25 entries, 0 to 24\n",
      "Data columns (total 8 columns):\n",
      " #   Column            Non-Null Count  Dtype  \n",
      "---  ------            --------------  -----  \n",
      " 0   _id               25 non-null     int64  \n",
      " 1   site_name         25 non-null     object \n",
      " 2   description       22 non-null     object \n",
      " 3   air_now_mnemonic  5 non-null      object \n",
      " 4   address           20 non-null     object \n",
      " 5   latitude          21 non-null     float64\n",
      " 6   longitude         21 non-null     float64\n",
      " 7   enabled           25 non-null     object \n",
      "dtypes: float64(2), int64(1), object(5)\n",
      "memory usage: 1.7+ KB\n"
     ]
    }
   ],
   "source": [
    "# explore the site data\n",
    "site_df.info()"
   ]
  },
  {
   "cell_type": "code",
   "execution_count": 18,
   "metadata": {},
   "outputs": [
    {
     "data": {
      "text/html": [
       "<div>\n",
       "<style scoped>\n",
       "    .dataframe tbody tr th:only-of-type {\n",
       "        vertical-align: middle;\n",
       "    }\n",
       "\n",
       "    .dataframe tbody tr th {\n",
       "        vertical-align: top;\n",
       "    }\n",
       "\n",
       "    .dataframe thead th {\n",
       "        text-align: right;\n",
       "    }\n",
       "</style>\n",
       "<table border=\"1\" class=\"dataframe\">\n",
       "  <thead>\n",
       "    <tr style=\"text-align: right;\">\n",
       "      <th></th>\n",
       "      <th>_id</th>\n",
       "      <th>site_name</th>\n",
       "      <th>description</th>\n",
       "      <th>air_now_mnemonic</th>\n",
       "      <th>address</th>\n",
       "      <th>latitude</th>\n",
       "      <th>longitude</th>\n",
       "      <th>enabled</th>\n",
       "    </tr>\n",
       "  </thead>\n",
       "  <tbody>\n",
       "    <tr>\n",
       "      <th>0</th>\n",
       "      <td>6066</td>\n",
       "      <td>Fulton St. Fridge</td>\n",
       "      <td>Sample Fridge at 836 Fulton St. Room 117</td>\n",
       "      <td>NaN</td>\n",
       "      <td>836 Fulton Street Pittsburgh, PA 15233</td>\n",
       "      <td>NaN</td>\n",
       "      <td>NaN</td>\n",
       "      <td>t</td>\n",
       "    </tr>\n",
       "    <tr>\n",
       "      <th>1</th>\n",
       "      <td>6067</td>\n",
       "      <td>Harrison Township</td>\n",
       "      <td>Harrison Township Ozone and NO/NOx Site</td>\n",
       "      <td>HT1</td>\n",
       "      <td>Highlands Senior High School - 1500 Pacific Av...</td>\n",
       "      <td>40.613864</td>\n",
       "      <td>-79.729569</td>\n",
       "      <td>t</td>\n",
       "    </tr>\n",
       "    <tr>\n",
       "      <th>2</th>\n",
       "      <td>6068</td>\n",
       "      <td>South Fayette</td>\n",
       "      <td>South Fayette Ozone Site</td>\n",
       "      <td>SF1</td>\n",
       "      <td>South Fayette Elementary School - 3640 Old Oak...</td>\n",
       "      <td>40.375647</td>\n",
       "      <td>-80.169931</td>\n",
       "      <td>t</td>\n",
       "    </tr>\n",
       "    <tr>\n",
       "      <th>3</th>\n",
       "      <td>6069</td>\n",
       "      <td>Lawrenceville</td>\n",
       "      <td>Lawrenceville Ozone, and Met Site</td>\n",
       "      <td>LV1</td>\n",
       "      <td>Allegheny County Health Department - 301 39th ...</td>\n",
       "      <td>40.465433</td>\n",
       "      <td>-79.960742</td>\n",
       "      <td>t</td>\n",
       "    </tr>\n",
       "    <tr>\n",
       "      <th>4</th>\n",
       "      <td>6070</td>\n",
       "      <td>Liberty</td>\n",
       "      <td>Liberty Borough South Allegheny High School Site</td>\n",
       "      <td>NaN</td>\n",
       "      <td>South Allegheny High School - 2743 Washington ...</td>\n",
       "      <td>40.323856</td>\n",
       "      <td>-79.868064</td>\n",
       "      <td>t</td>\n",
       "    </tr>\n",
       "  </tbody>\n",
       "</table>\n",
       "</div>"
      ],
      "text/plain": [
       "    _id          site_name                                       description  \\\n",
       "0  6066  Fulton St. Fridge          Sample Fridge at 836 Fulton St. Room 117   \n",
       "1  6067  Harrison Township           Harrison Township Ozone and NO/NOx Site   \n",
       "2  6068      South Fayette                          South Fayette Ozone Site   \n",
       "3  6069      Lawrenceville                 Lawrenceville Ozone, and Met Site   \n",
       "4  6070            Liberty  Liberty Borough South Allegheny High School Site   \n",
       "\n",
       "  air_now_mnemonic                                            address  \\\n",
       "0              NaN             836 Fulton Street Pittsburgh, PA 15233   \n",
       "1              HT1  Highlands Senior High School - 1500 Pacific Av...   \n",
       "2              SF1  South Fayette Elementary School - 3640 Old Oak...   \n",
       "3              LV1  Allegheny County Health Department - 301 39th ...   \n",
       "4              NaN  South Allegheny High School - 2743 Washington ...   \n",
       "\n",
       "    latitude  longitude enabled  \n",
       "0        NaN        NaN       t  \n",
       "1  40.613864 -79.729569       t  \n",
       "2  40.375647 -80.169931       t  \n",
       "3  40.465433 -79.960742       t  \n",
       "4  40.323856 -79.868064       t  "
      ]
     },
     "execution_count": 18,
     "metadata": {},
     "output_type": "execute_result"
    }
   ],
   "source": [
    "#view the first few rows\n",
    "site_df.head()"
   ]
  },
  {
   "cell_type": "code",
   "execution_count": 19,
   "metadata": {},
   "outputs": [
    {
     "data": {
      "text/plain": [
       "array(['Fulton St. Fridge', 'Harrison Township', 'South Fayette',\n",
       "       'Lawrenceville', 'Liberty', 'West Allegheny', 'Avalon',\n",
       "       'Lawrenceville 2', 'Monroeville', 'North Braddock', 'Clairton',\n",
       "       'Pittsburgh 8_Manchester', 'Lincoln', 'Parkway East',\n",
       "       'Natrona Lead', 'Bridgeville', 'Liberty 2',\n",
       "       'Glassport High Street', 'Flag Plaza', 'Court House', 'Opal Court',\n",
       "       'West Mifflin', 'USS Clairton Sodar Site',\n",
       "       '836 Fulton Street Office', 'Liberty Trailer'], dtype=object)"
      ]
     },
     "execution_count": 19,
     "metadata": {},
     "output_type": "execute_result"
    }
   ],
   "source": [
    "# get the unique site names\n",
    "site_df.site_name.unique()"
   ]
  },
  {
   "cell_type": "markdown",
   "metadata": {},
   "source": [
    "There is no 'Lawrencevill00:00'"
   ]
  },
  {
   "cell_type": "code",
   "execution_count": 20,
   "metadata": {},
   "outputs": [
    {
     "name": "stdout",
     "output_type": "stream",
     "text": [
      "{'Pittsburgh', 'Lawrencevill00:00'}\n"
     ]
    }
   ],
   "source": [
    "# Unique site names in each DataFrame\n",
    "main_sites = set(df['site'].unique())\n",
    "reference_sites = set(site_df['site_name'].unique())\n",
    "\n",
    "# Find sites in df that don't exist in site_df\n",
    "unmatched_sites = main_sites - reference_sites\n",
    "print(unmatched_sites)"
   ]
  },
  {
   "cell_type": "code",
   "execution_count": 21,
   "metadata": {},
   "outputs": [
    {
     "name": "stdout",
     "output_type": "stream",
     "text": [
      "{'Bridgeville', 'Pittsburgh 8_Manchester', 'Liberty Trailer', '836 Fulton Street Office', 'Natrona Lead', 'Monroeville', 'West Allegheny'}\n"
     ]
    }
   ],
   "source": [
    "# locations that are in the site_df but not in the main df\n",
    "unmatched_sites_2 = reference_sites - main_sites\n",
    "print(unmatched_sites_2)"
   ]
  },
  {
   "cell_type": "markdown",
   "metadata": {},
   "source": [
    "The following locations are in the site locations data file but not in the main pollution file.\n",
    "\n",
    "'Bridgeville', 'West Allegheny', 'Pittsburgh 8_Manchester', 'Natrona Lead', 'Liberty Trailer', '836 Fulton Street Office', 'Monroeville'"
   ]
  },
  {
   "cell_type": "markdown",
   "metadata": {},
   "source": [
    "The following locations are in the main pollution file but not in the site locations data file.\n",
    "\n",
    "'Pittsburgh', 'Lawrencevill00:00'"
   ]
  },
  {
   "cell_type": "code",
   "execution_count": 22,
   "metadata": {},
   "outputs": [
    {
     "data": {
      "text/plain": [
       "1"
      ]
     },
     "execution_count": 22,
     "metadata": {},
     "output_type": "execute_result"
    }
   ],
   "source": [
    "# Check for records with location 'Lawrencevill00:00'\n",
    "df['site'].value_counts().loc['Lawrencevill00:00']"
   ]
  },
  {
   "cell_type": "code",
   "execution_count": 23,
   "metadata": {},
   "outputs": [
    {
     "data": {
      "text/html": [
       "<div>\n",
       "<style scoped>\n",
       "    .dataframe tbody tr th:only-of-type {\n",
       "        vertical-align: middle;\n",
       "    }\n",
       "\n",
       "    .dataframe tbody tr th {\n",
       "        vertical-align: top;\n",
       "    }\n",
       "\n",
       "    .dataframe thead th {\n",
       "        text-align: right;\n",
       "    }\n",
       "</style>\n",
       "<table border=\"1\" class=\"dataframe\">\n",
       "  <thead>\n",
       "    <tr style=\"text-align: right;\">\n",
       "      <th></th>\n",
       "      <th>_id</th>\n",
       "      <th>datetime_est</th>\n",
       "      <th>site</th>\n",
       "      <th>parameter</th>\n",
       "      <th>is_valid</th>\n",
       "      <th>report_value</th>\n",
       "      <th>unit</th>\n",
       "      <th>unit_description</th>\n",
       "      <th>highest_flag</th>\n",
       "      <th>aqs_parameter_category</th>\n",
       "    </tr>\n",
       "  </thead>\n",
       "  <tbody>\n",
       "    <tr>\n",
       "      <th>9426564</th>\n",
       "      <td>9470741</td>\n",
       "      <td>2024-10-04 05:00:00</td>\n",
       "      <td>Lawrencevill00:00</td>\n",
       "      <td>6.2</td>\n",
       "      <td>f</td>\n",
       "      <td>NaN</td>\n",
       "      <td>TRUE</td>\n",
       "      <td>NaN</td>\n",
       "      <td>&lt;</td>\n",
       "      <td>Pittsburgh</td>\n",
       "    </tr>\n",
       "  </tbody>\n",
       "</table>\n",
       "</div>"
      ],
      "text/plain": [
       "             _id        datetime_est               site parameter is_valid  \\\n",
       "9426564  9470741 2024-10-04 05:00:00  Lawrencevill00:00       6.2        f   \n",
       "\n",
       "         report_value  unit unit_description highest_flag  \\\n",
       "9426564           NaN  TRUE              NaN            <   \n",
       "\n",
       "        aqs_parameter_category  \n",
       "9426564             Pittsburgh  "
      ]
     },
     "execution_count": 23,
     "metadata": {},
     "output_type": "execute_result"
    }
   ],
   "source": [
    "# Identify the rows with 'Lawrencevill00:00'\n",
    "df[df['site'] == 'Lawrencevill00:00']"
   ]
  },
  {
   "cell_type": "markdown",
   "metadata": {},
   "source": [
    "This entry looks like like an error. We will go ahead to delete that entry"
   ]
  },
  {
   "cell_type": "code",
   "execution_count": 24,
   "metadata": {},
   "outputs": [],
   "source": [
    "# delete the rows with 'Lawrencevill00:00'\n",
    "df = df[df['site'] != 'Lawrencevill00:00']"
   ]
  },
  {
   "cell_type": "code",
   "execution_count": 25,
   "metadata": {},
   "outputs": [
    {
     "data": {
      "text/html": [
       "<div>\n",
       "<style scoped>\n",
       "    .dataframe tbody tr th:only-of-type {\n",
       "        vertical-align: middle;\n",
       "    }\n",
       "\n",
       "    .dataframe tbody tr th {\n",
       "        vertical-align: top;\n",
       "    }\n",
       "\n",
       "    .dataframe thead th {\n",
       "        text-align: right;\n",
       "    }\n",
       "</style>\n",
       "<table border=\"1\" class=\"dataframe\">\n",
       "  <thead>\n",
       "    <tr style=\"text-align: right;\">\n",
       "      <th></th>\n",
       "      <th>_id</th>\n",
       "      <th>site_name</th>\n",
       "      <th>description</th>\n",
       "      <th>air_now_mnemonic</th>\n",
       "      <th>address</th>\n",
       "      <th>latitude</th>\n",
       "      <th>longitude</th>\n",
       "      <th>enabled</th>\n",
       "    </tr>\n",
       "  </thead>\n",
       "  <tbody>\n",
       "    <tr>\n",
       "      <th>7</th>\n",
       "      <td>6073</td>\n",
       "      <td>Lawrenceville 2</td>\n",
       "      <td>LV2 NCORE site</td>\n",
       "      <td>NaN</td>\n",
       "      <td>Allegheny County Health Department - 01 39th S...</td>\n",
       "      <td>40.465433</td>\n",
       "      <td>-79.960742</td>\n",
       "      <td>t</td>\n",
       "    </tr>\n",
       "  </tbody>\n",
       "</table>\n",
       "</div>"
      ],
      "text/plain": [
       "    _id        site_name     description air_now_mnemonic  \\\n",
       "7  6073  Lawrenceville 2  LV2 NCORE site              NaN   \n",
       "\n",
       "                                             address   latitude  longitude  \\\n",
       "7  Allegheny County Health Department - 01 39th S...  40.465433 -79.960742   \n",
       "\n",
       "  enabled  \n",
       "7       t  "
      ]
     },
     "execution_count": 25,
     "metadata": {},
     "output_type": "execute_result"
    }
   ],
   "source": [
    "# Identify 'Lawrenceville 2' site \n",
    "site_df[site_df['site_name'] == 'Lawrenceville 2']"
   ]
  },
  {
   "cell_type": "code",
   "execution_count": 26,
   "metadata": {},
   "outputs": [
    {
     "data": {
      "text/html": [
       "<div>\n",
       "<style scoped>\n",
       "    .dataframe tbody tr th:only-of-type {\n",
       "        vertical-align: middle;\n",
       "    }\n",
       "\n",
       "    .dataframe tbody tr th {\n",
       "        vertical-align: top;\n",
       "    }\n",
       "\n",
       "    .dataframe thead th {\n",
       "        text-align: right;\n",
       "    }\n",
       "</style>\n",
       "<table border=\"1\" class=\"dataframe\">\n",
       "  <thead>\n",
       "    <tr style=\"text-align: right;\">\n",
       "      <th></th>\n",
       "      <th>_id</th>\n",
       "      <th>site_name</th>\n",
       "      <th>description</th>\n",
       "      <th>air_now_mnemonic</th>\n",
       "      <th>address</th>\n",
       "      <th>latitude</th>\n",
       "      <th>longitude</th>\n",
       "      <th>enabled</th>\n",
       "    </tr>\n",
       "  </thead>\n",
       "  <tbody>\n",
       "    <tr>\n",
       "      <th>3</th>\n",
       "      <td>6069</td>\n",
       "      <td>Lawrenceville</td>\n",
       "      <td>Lawrenceville Ozone, and Met Site</td>\n",
       "      <td>LV1</td>\n",
       "      <td>Allegheny County Health Department - 301 39th ...</td>\n",
       "      <td>40.465433</td>\n",
       "      <td>-79.960742</td>\n",
       "      <td>t</td>\n",
       "    </tr>\n",
       "  </tbody>\n",
       "</table>\n",
       "</div>"
      ],
      "text/plain": [
       "    _id      site_name                        description air_now_mnemonic  \\\n",
       "3  6069  Lawrenceville  Lawrenceville Ozone, and Met Site              LV1   \n",
       "\n",
       "                                             address   latitude  longitude  \\\n",
       "3  Allegheny County Health Department - 301 39th ...  40.465433 -79.960742   \n",
       "\n",
       "  enabled  \n",
       "3       t  "
      ]
     },
     "execution_count": 26,
     "metadata": {},
     "output_type": "execute_result"
    }
   ],
   "source": [
    "# Identify 'Lawrenceville' site \n",
    "site_df[site_df['site_name'] == 'Lawrenceville']"
   ]
  },
  {
   "cell_type": "markdown",
   "metadata": {},
   "source": [
    "From a quick google maps search, the two are different from each other and does not appear to be an error.\n",
    "There are two sensor devices in Lawrenceville."
   ]
  },
  {
   "cell_type": "code",
   "execution_count": 29,
   "metadata": {},
   "outputs": [
    {
     "data": {
      "text/html": [
       "<div>\n",
       "<style scoped>\n",
       "    .dataframe tbody tr th:only-of-type {\n",
       "        vertical-align: middle;\n",
       "    }\n",
       "\n",
       "    .dataframe tbody tr th {\n",
       "        vertical-align: top;\n",
       "    }\n",
       "\n",
       "    .dataframe thead th {\n",
       "        text-align: right;\n",
       "    }\n",
       "</style>\n",
       "<table border=\"1\" class=\"dataframe\">\n",
       "  <thead>\n",
       "    <tr style=\"text-align: right;\">\n",
       "      <th></th>\n",
       "      <th>_id</th>\n",
       "      <th>site_name</th>\n",
       "      <th>description</th>\n",
       "      <th>air_now_mnemonic</th>\n",
       "      <th>address</th>\n",
       "      <th>latitude</th>\n",
       "      <th>longitude</th>\n",
       "      <th>enabled</th>\n",
       "    </tr>\n",
       "  </thead>\n",
       "  <tbody>\n",
       "    <tr>\n",
       "      <th>11</th>\n",
       "      <td>6077</td>\n",
       "      <td>Pittsburgh 8_Manchester</td>\n",
       "      <td>NaN</td>\n",
       "      <td>NaN</td>\n",
       "      <td>Manchester Elementary School - 1612 Manhattan ...</td>\n",
       "      <td>40.456383</td>\n",
       "      <td>-80.026417</td>\n",
       "      <td>f</td>\n",
       "    </tr>\n",
       "  </tbody>\n",
       "</table>\n",
       "</div>"
      ],
      "text/plain": [
       "     _id                site_name description air_now_mnemonic  \\\n",
       "11  6077  Pittsburgh 8_Manchester         NaN              NaN   \n",
       "\n",
       "                                              address   latitude  longitude  \\\n",
       "11  Manchester Elementary School - 1612 Manhattan ...  40.456383 -80.026417   \n",
       "\n",
       "   enabled  \n",
       "11       f  "
      ]
     },
     "execution_count": 29,
     "metadata": {},
     "output_type": "execute_result"
    }
   ],
   "source": [
    "# Get the Pitsburgh site in the site_df\n",
    "site_df[site_df['site_name'] == 'Pittsburgh 8_Manchester']\n"
   ]
  },
  {
   "cell_type": "markdown",
   "metadata": {},
   "source": [
    "I infer that Pittsburgh 8_Manchester and Pittsburgh are the same.\n",
    "'Bridgeville', 'West Allegheny', 'Natrona Lead', 'Liberty Trailer', '836 Fulton Street Office', and 'Monroeville' have no records in the main data file\n"
   ]
  },
  {
   "cell_type": "code",
   "execution_count": 30,
   "metadata": {},
   "outputs": [],
   "source": [
    "# convert the site Pittsburgh 8_Manchester in the site_df to Pittsburgh\n",
    "site_df['site_name'] = site_df['site_name'].replace('Pittsburgh 8_Manchester', 'Pittsburgh')"
   ]
  },
  {
   "cell_type": "code",
   "execution_count": 38,
   "metadata": {},
   "outputs": [
    {
     "data": {
      "text/html": [
       "<div>\n",
       "<style scoped>\n",
       "    .dataframe tbody tr th:only-of-type {\n",
       "        vertical-align: middle;\n",
       "    }\n",
       "\n",
       "    .dataframe tbody tr th {\n",
       "        vertical-align: top;\n",
       "    }\n",
       "\n",
       "    .dataframe thead th {\n",
       "        text-align: right;\n",
       "    }\n",
       "</style>\n",
       "<table border=\"1\" class=\"dataframe\">\n",
       "  <thead>\n",
       "    <tr style=\"text-align: right;\">\n",
       "      <th></th>\n",
       "      <th>_id</th>\n",
       "      <th>site_name</th>\n",
       "      <th>description</th>\n",
       "      <th>air_now_mnemonic</th>\n",
       "      <th>address</th>\n",
       "      <th>latitude</th>\n",
       "      <th>longitude</th>\n",
       "      <th>enabled</th>\n",
       "    </tr>\n",
       "  </thead>\n",
       "  <tbody>\n",
       "    <tr>\n",
       "      <th>0</th>\n",
       "      <td>6066</td>\n",
       "      <td>Fulton St. Fridge</td>\n",
       "      <td>Sample Fridge at 836 Fulton St. Room 117</td>\n",
       "      <td>NaN</td>\n",
       "      <td>836 Fulton Street Pittsburgh, PA 15233</td>\n",
       "      <td>NaN</td>\n",
       "      <td>NaN</td>\n",
       "      <td>t</td>\n",
       "    </tr>\n",
       "    <tr>\n",
       "      <th>20</th>\n",
       "      <td>6086</td>\n",
       "      <td>Opal Court</td>\n",
       "      <td>NaN</td>\n",
       "      <td>NaN</td>\n",
       "      <td>NaN</td>\n",
       "      <td>NaN</td>\n",
       "      <td>NaN</td>\n",
       "      <td>f</td>\n",
       "    </tr>\n",
       "    <tr>\n",
       "      <th>22</th>\n",
       "      <td>6088</td>\n",
       "      <td>USS Clairton Sodar Site</td>\n",
       "      <td>Sodar Rass Site</td>\n",
       "      <td>NaN</td>\n",
       "      <td>NaN</td>\n",
       "      <td>NaN</td>\n",
       "      <td>NaN</td>\n",
       "      <td>f</td>\n",
       "    </tr>\n",
       "    <tr>\n",
       "      <th>23</th>\n",
       "      <td>6089</td>\n",
       "      <td>836 Fulton Street Office</td>\n",
       "      <td>Allegheny County Health Department Air Quality...</td>\n",
       "      <td>NaN</td>\n",
       "      <td>836 Fulton Street Pittsburgh, PA 15233</td>\n",
       "      <td>NaN</td>\n",
       "      <td>NaN</td>\n",
       "      <td>t</td>\n",
       "    </tr>\n",
       "  </tbody>\n",
       "</table>\n",
       "</div>"
      ],
      "text/plain": [
       "     _id                 site_name  \\\n",
       "0   6066         Fulton St. Fridge   \n",
       "20  6086                Opal Court   \n",
       "22  6088   USS Clairton Sodar Site   \n",
       "23  6089  836 Fulton Street Office   \n",
       "\n",
       "                                          description air_now_mnemonic  \\\n",
       "0            Sample Fridge at 836 Fulton St. Room 117              NaN   \n",
       "20                                                NaN              NaN   \n",
       "22                                    Sodar Rass Site              NaN   \n",
       "23  Allegheny County Health Department Air Quality...              NaN   \n",
       "\n",
       "                                   address  latitude  longitude enabled  \n",
       "0   836 Fulton Street Pittsburgh, PA 15233       NaN        NaN       t  \n",
       "20                                     NaN       NaN        NaN       f  \n",
       "22                                     NaN       NaN        NaN       f  \n",
       "23  836 Fulton Street Pittsburgh, PA 15233       NaN        NaN       t  "
      ]
     },
     "execution_count": 38,
     "metadata": {},
     "output_type": "execute_result"
    }
   ],
   "source": [
    "# find the locations in the site_df that are missing latitude and longitude \n",
    "missing_lat_long_2 = site_df[site_df['latitude'].isnull() | site_df['longitude'].isnull()]\n",
    "# print some of the missing lat long\n",
    "missing_lat_long_2"
   ]
  },
  {
   "cell_type": "code",
   "execution_count": 42,
   "metadata": {},
   "outputs": [],
   "source": [
    "# impute the missing lat long for 836 Fulton Street Office and Fulton St.Fridge with the lat long of the Pittsburgh site from google maps\n",
    "site_df.loc[site_df['_id'] == 6089, 'latitude'] = 40.4501916\n",
    "site_df.loc[site_df['_id'] == 6089, 'longitude'] = -80.0233292\n",
    "site_df.loc[site_df['_id'] == 6066, 'latitude'] = 40.4501916\n",
    "site_df.loc[site_df['_id'] == 6066, 'longitude'] = -80.0233292"
   ]
  },
  {
   "cell_type": "code",
   "execution_count": null,
   "metadata": {},
   "outputs": [],
   "source": [
    "# impute the missing lat long for Opal Court with the lat long of the Pittsburgh site from google maps\n",
    "site_df.loc[site_df['_id'] == 6086, 'latitude'] = 40.621456\n",
    "site_df.loc[site_df['_id'] == 6086, 'longitude'] = -79.7277765"
   ]
  },
  {
   "cell_type": "code",
   "execution_count": 50,
   "metadata": {},
   "outputs": [],
   "source": [
    "# impute the missing lat long for USS Clairton Sodar Site with the lat long of the Pittsburgh site from google maps\n",
    "site_df.loc[site_df['_id'] == 6088, 'latitude'] = 40.2995669\n",
    "site_df.loc[site_df['_id'] == 6088, 'longitude'] = -79.8715045"
   ]
  },
  {
   "cell_type": "code",
   "execution_count": 51,
   "metadata": {},
   "outputs": [
    {
     "data": {
      "text/html": [
       "<div>\n",
       "<style scoped>\n",
       "    .dataframe tbody tr th:only-of-type {\n",
       "        vertical-align: middle;\n",
       "    }\n",
       "\n",
       "    .dataframe tbody tr th {\n",
       "        vertical-align: top;\n",
       "    }\n",
       "\n",
       "    .dataframe thead th {\n",
       "        text-align: right;\n",
       "    }\n",
       "</style>\n",
       "<table border=\"1\" class=\"dataframe\">\n",
       "  <thead>\n",
       "    <tr style=\"text-align: right;\">\n",
       "      <th></th>\n",
       "      <th>_id</th>\n",
       "      <th>site_name</th>\n",
       "      <th>description</th>\n",
       "      <th>air_now_mnemonic</th>\n",
       "      <th>address</th>\n",
       "      <th>latitude</th>\n",
       "      <th>longitude</th>\n",
       "      <th>enabled</th>\n",
       "    </tr>\n",
       "  </thead>\n",
       "  <tbody>\n",
       "  </tbody>\n",
       "</table>\n",
       "</div>"
      ],
      "text/plain": [
       "Empty DataFrame\n",
       "Columns: [_id, site_name, description, air_now_mnemonic, address, latitude, longitude, enabled]\n",
       "Index: []"
      ]
     },
     "execution_count": 51,
     "metadata": {},
     "output_type": "execute_result"
    }
   ],
   "source": [
    "# view the site_df again\n",
    "missing_lat_long_2 = site_df[site_df['latitude'].isnull() | site_df['longitude'].isnull()]\n",
    "missing_lat_long_2"
   ]
  },
  {
   "cell_type": "markdown",
   "metadata": {},
   "source": [
    "Merge the two datasets "
   ]
  },
  {
   "cell_type": "code",
   "execution_count": 52,
   "metadata": {},
   "outputs": [
    {
     "name": "stdout",
     "output_type": "stream",
     "text": [
      "   _id_x datetime_est     site parameter is_valid  report_value     unit  \\\n",
      "0      1   2016-01-01  Lincoln      PM25        t         3.000    UG/M3   \n",
      "1      2   2016-01-01  Lincoln    PER_F2        t        67.000  PERCENT   \n",
      "2      3   2016-01-01  Liberty       SO2        t         0.001      PPM   \n",
      "3      4   2016-01-01  Liberty   SONICWS        t         6.900      MPH   \n",
      "4      5   2016-01-01  Liberty   SONICWD        t       259.000      DEG   \n",
      "\n",
      "             unit_description highest_flag aqs_parameter_category  _id_y  \\\n",
      "0  micrograms per cubic meter          NaN            Particulate   6078   \n",
      "1                     Percent          NaN                    NaN   6078   \n",
      "2           Parts Per Million            C    Criteria Pollutants   6070   \n",
      "3              miles per hour          NaN         Meteorological   6070   \n",
      "4                     Degrees          NaN         Meteorological   6070   \n",
      "\n",
      "  site_name                                       description  \\\n",
      "0   Lincoln                    Lincoln Borough PM-10 & PM-2.5   \n",
      "1   Lincoln                    Lincoln Borough PM-10 & PM-2.5   \n",
      "2   Liberty  Liberty Borough South Allegheny High School Site   \n",
      "3   Liberty  Liberty Borough South Allegheny High School Site   \n",
      "4   Liberty  Liberty Borough South Allegheny High School Site   \n",
      "\n",
      "  air_now_mnemonic                                            address  \\\n",
      "0              NaN                Bellbridge Road Elizabeth, PA 15037   \n",
      "1              NaN                Bellbridge Road Elizabeth, PA 15037   \n",
      "2              NaN  South Allegheny High School - 2743 Washington ...   \n",
      "3              NaN  South Allegheny High School - 2743 Washington ...   \n",
      "4              NaN  South Allegheny High School - 2743 Washington ...   \n",
      "\n",
      "    latitude  longitude enabled  \n",
      "0  40.308278 -79.869103       f  \n",
      "1  40.308278 -79.869103       f  \n",
      "2  40.323856 -79.868064       t  \n",
      "3  40.323856 -79.868064       t  \n",
      "4  40.323856 -79.868064       t  \n"
     ]
    }
   ],
   "source": [
    "# Merge the datasets on the site column\n",
    "df_merged = df.merge(site_df, how='left', left_on='site', right_on='site_name')\n",
    "\n",
    "# Display the result to confirm the merge\n",
    "print(df_merged.head())"
   ]
  },
  {
   "cell_type": "code",
   "execution_count": 54,
   "metadata": {},
   "outputs": [
    {
     "data": {
      "text/html": [
       "<div>\n",
       "<style scoped>\n",
       "    .dataframe tbody tr th:only-of-type {\n",
       "        vertical-align: middle;\n",
       "    }\n",
       "\n",
       "    .dataframe tbody tr th {\n",
       "        vertical-align: top;\n",
       "    }\n",
       "\n",
       "    .dataframe thead th {\n",
       "        text-align: right;\n",
       "    }\n",
       "</style>\n",
       "<table border=\"1\" class=\"dataframe\">\n",
       "  <thead>\n",
       "    <tr style=\"text-align: right;\">\n",
       "      <th></th>\n",
       "      <th>_id_x</th>\n",
       "      <th>datetime_est</th>\n",
       "      <th>site</th>\n",
       "      <th>parameter</th>\n",
       "      <th>is_valid</th>\n",
       "      <th>report_value</th>\n",
       "      <th>unit</th>\n",
       "      <th>unit_description</th>\n",
       "      <th>highest_flag</th>\n",
       "      <th>aqs_parameter_category</th>\n",
       "      <th>_id_y</th>\n",
       "      <th>site_name</th>\n",
       "      <th>description</th>\n",
       "      <th>air_now_mnemonic</th>\n",
       "      <th>address</th>\n",
       "      <th>latitude</th>\n",
       "      <th>longitude</th>\n",
       "      <th>enabled</th>\n",
       "    </tr>\n",
       "  </thead>\n",
       "  <tbody>\n",
       "    <tr>\n",
       "      <th>0</th>\n",
       "      <td>1</td>\n",
       "      <td>2016-01-01</td>\n",
       "      <td>Lincoln</td>\n",
       "      <td>PM25</td>\n",
       "      <td>t</td>\n",
       "      <td>3.000</td>\n",
       "      <td>UG/M3</td>\n",
       "      <td>micrograms per cubic meter</td>\n",
       "      <td>NaN</td>\n",
       "      <td>Particulate</td>\n",
       "      <td>6078</td>\n",
       "      <td>Lincoln</td>\n",
       "      <td>Lincoln Borough PM-10 &amp; PM-2.5</td>\n",
       "      <td>NaN</td>\n",
       "      <td>Bellbridge Road Elizabeth, PA 15037</td>\n",
       "      <td>40.308278</td>\n",
       "      <td>-79.869103</td>\n",
       "      <td>f</td>\n",
       "    </tr>\n",
       "    <tr>\n",
       "      <th>1</th>\n",
       "      <td>2</td>\n",
       "      <td>2016-01-01</td>\n",
       "      <td>Lincoln</td>\n",
       "      <td>PER_F2</td>\n",
       "      <td>t</td>\n",
       "      <td>67.000</td>\n",
       "      <td>PERCENT</td>\n",
       "      <td>Percent</td>\n",
       "      <td>NaN</td>\n",
       "      <td>NaN</td>\n",
       "      <td>6078</td>\n",
       "      <td>Lincoln</td>\n",
       "      <td>Lincoln Borough PM-10 &amp; PM-2.5</td>\n",
       "      <td>NaN</td>\n",
       "      <td>Bellbridge Road Elizabeth, PA 15037</td>\n",
       "      <td>40.308278</td>\n",
       "      <td>-79.869103</td>\n",
       "      <td>f</td>\n",
       "    </tr>\n",
       "    <tr>\n",
       "      <th>2</th>\n",
       "      <td>3</td>\n",
       "      <td>2016-01-01</td>\n",
       "      <td>Liberty</td>\n",
       "      <td>SO2</td>\n",
       "      <td>t</td>\n",
       "      <td>0.001</td>\n",
       "      <td>PPM</td>\n",
       "      <td>Parts Per Million</td>\n",
       "      <td>C</td>\n",
       "      <td>Criteria Pollutants</td>\n",
       "      <td>6070</td>\n",
       "      <td>Liberty</td>\n",
       "      <td>Liberty Borough South Allegheny High School Site</td>\n",
       "      <td>NaN</td>\n",
       "      <td>South Allegheny High School - 2743 Washington ...</td>\n",
       "      <td>40.323856</td>\n",
       "      <td>-79.868064</td>\n",
       "      <td>t</td>\n",
       "    </tr>\n",
       "    <tr>\n",
       "      <th>3</th>\n",
       "      <td>4</td>\n",
       "      <td>2016-01-01</td>\n",
       "      <td>Liberty</td>\n",
       "      <td>SONICWS</td>\n",
       "      <td>t</td>\n",
       "      <td>6.900</td>\n",
       "      <td>MPH</td>\n",
       "      <td>miles per hour</td>\n",
       "      <td>NaN</td>\n",
       "      <td>Meteorological</td>\n",
       "      <td>6070</td>\n",
       "      <td>Liberty</td>\n",
       "      <td>Liberty Borough South Allegheny High School Site</td>\n",
       "      <td>NaN</td>\n",
       "      <td>South Allegheny High School - 2743 Washington ...</td>\n",
       "      <td>40.323856</td>\n",
       "      <td>-79.868064</td>\n",
       "      <td>t</td>\n",
       "    </tr>\n",
       "    <tr>\n",
       "      <th>4</th>\n",
       "      <td>5</td>\n",
       "      <td>2016-01-01</td>\n",
       "      <td>Liberty</td>\n",
       "      <td>SONICWD</td>\n",
       "      <td>t</td>\n",
       "      <td>259.000</td>\n",
       "      <td>DEG</td>\n",
       "      <td>Degrees</td>\n",
       "      <td>NaN</td>\n",
       "      <td>Meteorological</td>\n",
       "      <td>6070</td>\n",
       "      <td>Liberty</td>\n",
       "      <td>Liberty Borough South Allegheny High School Site</td>\n",
       "      <td>NaN</td>\n",
       "      <td>South Allegheny High School - 2743 Washington ...</td>\n",
       "      <td>40.323856</td>\n",
       "      <td>-79.868064</td>\n",
       "      <td>t</td>\n",
       "    </tr>\n",
       "  </tbody>\n",
       "</table>\n",
       "</div>"
      ],
      "text/plain": [
       "   _id_x datetime_est     site parameter is_valid  report_value     unit  \\\n",
       "0      1   2016-01-01  Lincoln      PM25        t         3.000    UG/M3   \n",
       "1      2   2016-01-01  Lincoln    PER_F2        t        67.000  PERCENT   \n",
       "2      3   2016-01-01  Liberty       SO2        t         0.001      PPM   \n",
       "3      4   2016-01-01  Liberty   SONICWS        t         6.900      MPH   \n",
       "4      5   2016-01-01  Liberty   SONICWD        t       259.000      DEG   \n",
       "\n",
       "             unit_description highest_flag aqs_parameter_category  _id_y  \\\n",
       "0  micrograms per cubic meter          NaN            Particulate   6078   \n",
       "1                     Percent          NaN                    NaN   6078   \n",
       "2           Parts Per Million            C    Criteria Pollutants   6070   \n",
       "3              miles per hour          NaN         Meteorological   6070   \n",
       "4                     Degrees          NaN         Meteorological   6070   \n",
       "\n",
       "  site_name                                       description  \\\n",
       "0   Lincoln                    Lincoln Borough PM-10 & PM-2.5   \n",
       "1   Lincoln                    Lincoln Borough PM-10 & PM-2.5   \n",
       "2   Liberty  Liberty Borough South Allegheny High School Site   \n",
       "3   Liberty  Liberty Borough South Allegheny High School Site   \n",
       "4   Liberty  Liberty Borough South Allegheny High School Site   \n",
       "\n",
       "  air_now_mnemonic                                            address  \\\n",
       "0              NaN                Bellbridge Road Elizabeth, PA 15037   \n",
       "1              NaN                Bellbridge Road Elizabeth, PA 15037   \n",
       "2              NaN  South Allegheny High School - 2743 Washington ...   \n",
       "3              NaN  South Allegheny High School - 2743 Washington ...   \n",
       "4              NaN  South Allegheny High School - 2743 Washington ...   \n",
       "\n",
       "    latitude  longitude enabled  \n",
       "0  40.308278 -79.869103       f  \n",
       "1  40.308278 -79.869103       f  \n",
       "2  40.323856 -79.868064       t  \n",
       "3  40.323856 -79.868064       t  \n",
       "4  40.323856 -79.868064       t  "
      ]
     },
     "execution_count": 54,
     "metadata": {},
     "output_type": "execute_result"
    }
   ],
   "source": [
    "df_merged.head()"
   ]
  },
  {
   "cell_type": "code",
   "execution_count": 55,
   "metadata": {},
   "outputs": [
    {
     "name": "stdout",
     "output_type": "stream",
     "text": [
      "<class 'pandas.core.frame.DataFrame'>\n",
      "RangeIndex: 10116545 entries, 0 to 10116544\n",
      "Data columns (total 18 columns):\n",
      " #   Column                  Dtype         \n",
      "---  ------                  -----         \n",
      " 0   _id_x                   int64         \n",
      " 1   datetime_est            datetime64[ns]\n",
      " 2   site                    object        \n",
      " 3   parameter               object        \n",
      " 4   is_valid                object        \n",
      " 5   report_value            float64       \n",
      " 6   unit                    object        \n",
      " 7   unit_description        object        \n",
      " 8   highest_flag            object        \n",
      " 9   aqs_parameter_category  object        \n",
      " 10  _id_y                   int64         \n",
      " 11  site_name               object        \n",
      " 12  description             object        \n",
      " 13  air_now_mnemonic        object        \n",
      " 14  address                 object        \n",
      " 15  latitude                float64       \n",
      " 16  longitude               float64       \n",
      " 17  enabled                 object        \n",
      "dtypes: datetime64[ns](1), float64(3), int64(2), object(12)\n",
      "memory usage: 1.4+ GB\n"
     ]
    }
   ],
   "source": [
    "df_merged.info()\n"
   ]
  },
  {
   "cell_type": "code",
   "execution_count": 56,
   "metadata": {},
   "outputs": [
    {
     "data": {
      "text/plain": [
       "array([40.308278 , 40.323856 , 40.402267 , 40.465433 , 40.437431 ,\n",
       "       40.613864 , 40.375647 , 40.499789 , 40.443417 , 40.438369 ,\n",
       "       40.326019 , 40.621456 , 40.294381 , 40.3629   , 40.456383 ,\n",
       "       40.2995669, 40.4501916])"
      ]
     },
     "execution_count": 56,
     "metadata": {},
     "output_type": "execute_result"
    }
   ],
   "source": [
    "df_merged.latitude.unique()"
   ]
  },
  {
   "cell_type": "code",
   "execution_count": 57,
   "metadata": {},
   "outputs": [
    {
     "data": {
      "text/plain": [
       "0"
      ]
     },
     "execution_count": 57,
     "metadata": {},
     "output_type": "execute_result"
    }
   ],
   "source": [
    "df_merged.latitude.isna().sum()"
   ]
  },
  {
   "cell_type": "code",
   "execution_count": 58,
   "metadata": {},
   "outputs": [
    {
     "data": {
      "text/plain": [
       "0"
      ]
     },
     "execution_count": 58,
     "metadata": {},
     "output_type": "execute_result"
    }
   ],
   "source": [
    "df_merged.longitude.isna().sum()"
   ]
  },
  {
   "cell_type": "code",
   "execution_count": null,
   "metadata": {},
   "outputs": [],
   "source": []
  }
 ],
 "metadata": {
  "kernelspec": {
   "display_name": "base",
   "language": "python",
   "name": "python3"
  },
  "language_info": {
   "codemirror_mode": {
    "name": "ipython",
    "version": 3
   },
   "file_extension": ".py",
   "mimetype": "text/x-python",
   "name": "python",
   "nbconvert_exporter": "python",
   "pygments_lexer": "ipython3",
   "version": "3.12.7"
  }
 },
 "nbformat": 4,
 "nbformat_minor": 2
}
